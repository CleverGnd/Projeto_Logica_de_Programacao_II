{
 "cells": [
  {
   "cell_type": "markdown",
   "metadata": {},
   "source": [
    "# Código Desenvolvido:"
   ]
  },
  {
   "cell_type": "markdown",
   "metadata": {},
   "source": [
    "## Importando as bibliotecas:"
   ]
  },
  {
   "cell_type": "markdown",
   "metadata": {},
   "source": [
    "### Instalar Bibliotecas:"
   ]
  },
  {
   "cell_type": "code",
   "execution_count": null,
   "metadata": {},
   "outputs": [],
   "source": [
    "!pip install tabulate"
   ]
  },
  {
   "cell_type": "code",
   "execution_count": null,
   "metadata": {},
   "outputs": [],
   "source": [
    "import pandas as pd\n",
    "import json\n",
    "from IPython.display import clear_output\n",
    "from tabulate import tabulate"
   ]
  },
  {
   "cell_type": "markdown",
   "metadata": {},
   "source": [
    "## Dicionário -> Alterar para arquivo json"
   ]
  },
  {
   "cell_type": "code",
   "execution_count": null,
   "metadata": {},
   "outputs": [],
   "source": [
    "# Dicionário para armazenar os produtos\n",
    "produtos = {}"
   ]
  },
  {
   "cell_type": "markdown",
   "metadata": {},
   "source": [
    "## Funções principais:"
   ]
  },
  {
   "cell_type": "code",
   "execution_count": null,
   "metadata": {},
   "outputs": [],
   "source": [
    "def cadastrar_produto():\n",
    "    \"\"\"\n",
    "    Cadastra um novo produto no dicionário de produtos.\n",
    "    \"\"\"\n",
    "    exibir_titulo('Cadastrar Produtos')\n",
    "    resposta = 's'\n",
    "    while resposta.lower() != 'n':\n",
    "        try:\n",
    "            id_produto = input('Id do Produto: ')\n",
    "            if id_produto in produtos:\n",
    "                print(f'Produto \"{id_produto}\" já cadastrado.')\n",
    "            else:\n",
    "                nome_produto = input('Nome do Produto: ')\n",
    "                preco_produto = float(input('Preço do Produto: '))\n",
    "                quantidade_produto = int(input('Quantidade do Produto em estoque: '))\n",
    "                descricao_produto = input('Descrição do Produto: ')\n",
    "                \n",
    "                caracteristicas_produto = obter_caracteristicas()\n",
    "\n",
    "                produtos[id_produto] = {'nome': nome_produto,\n",
    "                                        'quantidade': quantidade_produto,\n",
    "                                        'preco': preco_produto,\n",
    "                                        'descricao': descricao_produto,\n",
    "                                        'caracteristicas': caracteristicas_produto if caracteristicas_produto else {}}\n",
    "                print(f'Cadastro do produto {id_produto} ({nome_produto}) realizado!')\n",
    "                atualizar_dicionario_json('produtos.json', produtos)\n",
    "        except ValueError:\n",
    "            print(\"Entrada inválida. Certifique-se de inserir um valor numérico para o preço.\")\n",
    "        resposta = input('Deseja adicionar outro produto? (s/n)')"
   ]
  },
  {
   "cell_type": "code",
   "execution_count": null,
   "metadata": {},
   "outputs": [],
   "source": [
    "def consultar_produto():\n",
    "    \"\"\"\n",
    "    Consulta um produto no dicionário de produtos.\n",
    "    \"\"\"\n",
    "    exibir_titulo('Consultar um produto')\n",
    "    try:\n",
    "        id_produto = input('ID do Produto: ')\n",
    "        if id_produto in produtos:\n",
    "            produto = produtos[id_produto]\n",
    "            print(f'Nome: {produto[\"nome\"]}')\n",
    "            print(f'Preço: R$ {produto[\"preco\"]:.2f}')\n",
    "            print(f'Quantidade: {produto[\"quantidade\"]}')\n",
    "\n",
    "            if produto['caracteristicas']:\n",
    "                print('Características:')\n",
    "                for caracteristica, valores in produto['caracteristicas'].items():\n",
    "                    if valores:\n",
    "                        print(f'     {caracteristica}: {valores[0]}')\n",
    "                    else:\n",
    "                        print(\n",
    "                            f'     {caracteristica}: Nenhum valor disponível')\n",
    "            else:\n",
    "                print('Características: Nenhuma informação disponível')\n",
    "\n",
    "            print(f'Descrição: {produto[\"descricao\"]}')\n",
    "        else:\n",
    "            resposta = input(\n",
    "                'Produto não cadastrado. Deseja cadastrá-lo? (s|n)')\n",
    "            if resposta.lower() == 's':\n",
    "                cadastrar_produto()\n",
    "            else:\n",
    "                print()\n",
    "    except ValueError:\n",
    "        print(\"Entrada inválida. Tente novamente.\")"
   ]
  },
  {
   "cell_type": "code",
   "execution_count": null,
   "metadata": {},
   "outputs": [],
   "source": [
    "def listar_produtos():\n",
    "    \"\"\"\n",
    "    Lista todos os produtos cadastrados.\n",
    "    \"\"\"\n",
    "    exibir_titulo('Listar Produtos Cadastrados')\n",
    "\n",
    "    table_data = [[id_produto, produto[\"nome\"], f'R$ {produto[\"preco\"]:.2f}', produto[\"quantidade\"]]\n",
    "        for id_produto, produto in produtos.items()\n",
    "    ]\n",
    "\n",
    "    headers = [\"ID\", \"Nome\", \"Preço\", \"Quantidade\"]\n",
    "    table = tabulate(table_data, headers, tablefmt=\"pretty\")\n",
    "\n",
    "    print(table)"
   ]
  },
  {
   "cell_type": "code",
   "execution_count": null,
   "metadata": {},
   "outputs": [],
   "source": [
    "def atualizar_cadastro():\n",
    "    \"\"\"\n",
    "    Atualiza o cadastro de um produto existente.\n",
    "    \"\"\"\n",
    "    exibir_titulo('Atualizar Cadastro de Um Produto')\n",
    "    try:\n",
    "        id_produto = input('ID do Produto: ')\n",
    "        if id_produto in produtos:\n",
    "            produto = produtos[id_produto]\n",
    "            nome_produto = input('Nome do Produto: ')\n",
    "            preco_produto = float(input('Preço do Produto: '))\n",
    "            quantidade_produto = int(\n",
    "                input('Quantidade do Produto em estoque: '))\n",
    "            descricao_produto = input('Descrição do Produto: ')\n",
    "            while True:\n",
    "                caracteristica = input(\n",
    "                    'Selecione a característica do produto (ou digite \"sair\" para encerrar): ')\n",
    "                if caracteristica.lower() == 'sair':\n",
    "                    break\n",
    "                valor = input(f\"Digite o valor da característica '{caracteristica}': \")\n",
    "                if caracteristica in produto['caracteristicas']:\n",
    "                    produto['caracteristicas'][caracteristica][0] = valor\n",
    "                else:\n",
    "                    print(f\"Característica '{caracteristica}' não existe. Por favor, adicione uma característica válida.\")\n",
    "            produto['nome'] = nome_produto\n",
    "            produto['preco'] = preco_produto\n",
    "            produto['descricao'] = descricao_produto\n",
    "            produto['quantidade'] = quantidade_produto\n",
    "            print(f'Atualização do produto {id_produto} ({nome_produto}) realizada!')\n",
    "            atualizar_dicionario_json('produtos.json', produtos)\n",
    "        else:\n",
    "            print('Produto não cadastrado.')\n",
    "    except ValueError:\n",
    "        print(\"Entrada inválida. Certifique-se de inserir um valor numérico para o preço.\")"
   ]
  },
  {
   "cell_type": "code",
   "execution_count": null,
   "metadata": {},
   "outputs": [],
   "source": [
    "def excluir_produto():\n",
    "    \"\"\"\n",
    "    Exclui um produto do dicionário de produtos.\n",
    "    \"\"\"\n",
    "    exibir_titulo('Excluir Produto')\n",
    "    try:\n",
    "        id_produto = input('ID do Produto: ')\n",
    "        if id_produto in produtos:\n",
    "            del produtos[id_produto]\n",
    "            print(f'Produto {id_produto} excluído!')\n",
    "            atualizar_dicionario_json('produtos.json', produtos)\n",
    "        else:\n",
    "            print('Produto não cadastrado.')\n",
    "    except ValueError:\n",
    "        print(\"Entrada inválida. Tente novamente.\")"
   ]
  },
  {
   "cell_type": "markdown",
   "metadata": {},
   "source": [
    "### Função Menu:\n"
   ]
  },
  {
   "cell_type": "code",
   "execution_count": null,
   "metadata": {},
   "outputs": [],
   "source": [
    "def menu():\n",
    "    \"\"\"\n",
    "    Exibe o menu principal e processa a escolha do usuário.\n",
    "    \"\"\"\n",
    "    while True:\n",
    "        exibir_titulo('Gerenciamento de Produtos')\n",
    "        print('1 - Cadastrar produtos')\n",
    "        print('2 - Consultar produto')\n",
    "        print('3 - Listar produtos cadastrados')\n",
    "        print('4 - Atualizar cadastro')\n",
    "        print('5 - Excluir cadastro')\n",
    "        print('6 - Sair')\n",
    "        print()\n",
    "        print('*' * 68)\n",
    "        opcao = input('Selecione uma opção: ')\n",
    "        if opcao == '1':\n",
    "            clear_output(wait=True)\n",
    "            cadastrar_produto()\n",
    "        elif opcao == '2':\n",
    "            clear_output(wait=True)\n",
    "            consultar_produto()\n",
    "        elif opcao == '3':\n",
    "            clear_output(wait=True)\n",
    "            listar_produtos()\n",
    "        elif opcao == '4':\n",
    "            clear_output(wait=True)\n",
    "            atualizar_cadastro()\n",
    "        elif opcao == '5':\n",
    "            clear_output(wait=True)\n",
    "            excluir_produto()\n",
    "        elif opcao == '6':\n",
    "            exibir_titulo('Obrigado por Utilizar Nosso Sistema')\n",
    "            break\n",
    "        else:\n",
    "            clear_output(wait=True)\n",
    "            print('Opção Inválida')"
   ]
  },
  {
   "cell_type": "markdown",
   "metadata": {},
   "source": [
    "## Funções auxiliares:"
   ]
  },
  {
   "cell_type": "code",
   "execution_count": null,
   "metadata": {},
   "outputs": [],
   "source": [
    "def exibir_titulo(titulo):\n",
    "    \"\"\"\n",
    "    Exibe um título formatado com 68 caracteres centrados.\n",
    "    \"\"\"\n",
    "    espacos_laterais = (68 - len(titulo)) // 2\n",
    "    linha = '*' * espacos_laterais + ' ' + titulo.upper() + ' ' + '*' * \\\n",
    "        espacos_laterais\n",
    "    print(linha)\n",
    "    print()\n",
    "\n",
    "def obter_caracteristicas():\n",
    "    \"\"\"\n",
    "    Obtém as características do produto.\n",
    "    \"\"\"\n",
    "    caracteristicas = {}\n",
    "\n",
    "    opcoes_caracteristicas = ['Peso', 'Tamanho', 'Cor', 'Altura', 'Outra (digitar)', 'Nenhuma (sair)']\n",
    "\n",
    "    while True:\n",
    "        print('\\nSelecione a característica do produto:')\n",
    "        for i, opcao in enumerate(opcoes_caracteristicas, start=1):\n",
    "            print(f'{i} - {opcao}')\n",
    "\n",
    "        escolha = input('Digite o número da opção desejada: ')\n",
    "        if escolha.isdigit() and 1 <= int(escolha) <= len(opcoes_caracteristicas):\n",
    "            escolha = int(escolha)\n",
    "            if escolha == len(opcoes_caracteristicas) - 1:\n",
    "                nova_caracteristica = input('Digite o nome da nova característica: ')\n",
    "                valor = input(f\"Digite o valor da característica '{nova_caracteristica}': \")\n",
    "                caracteristicas[nova_caracteristica.lower()] = [valor]\n",
    "                adicionar_outra = input('Deseja adicionar outra característica? (s/n): ')\n",
    "                if adicionar_outra.lower() != 's':\n",
    "                    break\n",
    "            elif escolha == len(opcoes_caracteristicas):\n",
    "                break\n",
    "            else:\n",
    "                caracteristica = opcoes_caracteristicas[escolha - 1]\n",
    "                valor = input(f\"Digite o valor da característica '{caracteristica}': \")\n",
    "                caracteristicas[caracteristica.lower()] = [valor]\n",
    "                adicionar_outra = input('Deseja adicionar outra característica? (s/n): ')\n",
    "                if adicionar_outra.lower() != 's':\n",
    "                    break\n",
    "        else:\n",
    "            print('Opção inválida. Tente novamente.')\n",
    "\n",
    "def carregar_dicionario_json(nome_arquivo):\n",
    "    \"\"\"\n",
    "    Carrega um dicionário a partir de um arquivo JSON.\n",
    "    \"\"\"\n",
    "    global produtos\n",
    "    try:\n",
    "        with open(nome_arquivo, 'r') as f:\n",
    "            dados = json.load(f)\n",
    "            print(f'Arquivo {nome_arquivo} encontrado.')\n",
    "\n",
    "            if dados:\n",
    "                primeiro_produto = next(iter(dados.values()))['nome']\n",
    "                ultimo_produto = list(dados.values())[-1]['nome']\n",
    "                print(f'Resumo do arquivo:')\n",
    "                print(f'Número de produtos: {len(dados)}')\n",
    "                print(f'Primeiro produto: {primeiro_produto}')\n",
    "                print(f'Último produto: {ultimo_produto}')\n",
    "\n",
    "                resposta = input(\n",
    "                    'Deseja importar esses dados para a execução atual do programa? (s|n): ')\n",
    "                if resposta.lower() == 's':\n",
    "                    produtos = dados\n",
    "                    print('Dados importados com sucesso.')\n",
    "                else:\n",
    "                    print(\n",
    "                        'Os dados não foram importados. O programa continuará com o estado atual.')\n",
    "            else:\n",
    "                print(\n",
    "                    'O arquivo está vazio. O programa continuará com um dicionário vazio.')\n",
    "                produtos = {}\n",
    "    except FileNotFoundError:\n",
    "        print(f'Arquivo {nome_arquivo} não encontrado. O programa continuará com um dicionário vazio.')\n",
    "        produtos = {}\n",
    "    except Exception as e:\n",
    "        print(f'Erro ao carregar os dados do arquivo {nome_arquivo}: {str(e)}')\n",
    "        produtos = {}\n",
    "\n",
    "\n",
    "def atualizar_dicionario_json(nome_arquivo, dicionario):\n",
    "    \"\"\"\n",
    "    Atualiza um arquivo JSON com o conteúdo do dicionário.\n",
    "    \"\"\"\n",
    "    try:\n",
    "        with open(nome_arquivo, 'w') as f:\n",
    "            json.dump(dicionario, f)\n",
    "        print(f'Dados salvos corretamente no arquivo {nome_arquivo}.')\n",
    "    except Exception as e:\n",
    "        print(f'Erro ao salvar os dados no arquivo {nome_arquivo}: {str(e)}')"
   ]
  },
  {
   "cell_type": "markdown",
   "metadata": {},
   "source": [
    "### Funções criadas"
   ]
  },
  {
   "cell_type": "code",
   "execution_count": null,
   "metadata": {},
   "outputs": [],
   "source": [
    "def get_caracteristicas():\n",
    "    caracteristicas = {}\n",
    "    while True:\n",
    "        caracteristica = input(\n",
    "            'Selecione a característica do produto (ou digite \"sair\" para encerrar): ')\n",
    "        if caracteristica.lower() == 'sair':\n",
    "            break\n",
    "        valor = input(f\"Digite o valor da característica '{caracteristica}': \")\n",
    "        caracteristicas[caracteristica] = valor\n",
    "    return caracteristicas"
   ]
  },
  {
   "cell_type": "markdown",
   "metadata": {},
   "source": [
    "# Sistema de Controle de Estoque - "
   ]
  },
  {
   "cell_type": "code",
   "execution_count": null,
   "metadata": {},
   "outputs": [],
   "source": [
    "# Carregar dados do arquivo JSON ao iniciar o programa\n",
    "carregar_dicionario_json('produtos.json')\n",
    "\n",
    "# Iniciar o menu principal\n",
    "menu()"
   ]
  }
 ],
 "metadata": {
  "kernelspec": {
   "display_name": "Python 3",
   "language": "python",
   "name": "python3"
  },
  "language_info": {
   "codemirror_mode": {
    "name": "ipython",
    "version": 3
   },
   "file_extension": ".py",
   "mimetype": "text/x-python",
   "name": "python",
   "nbconvert_exporter": "python",
   "pygments_lexer": "ipython3",
   "version": "3.12.0"
  }
 },
 "nbformat": 4,
 "nbformat_minor": 2
}
