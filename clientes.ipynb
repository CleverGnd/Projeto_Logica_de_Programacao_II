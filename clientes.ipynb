{
 "cells": [
  {
   "cell_type": "markdown",
   "metadata": {},
   "source": [
    "# Código Desenvolvido:"
   ]
  },
  {
   "cell_type": "markdown",
   "metadata": {},
   "source": [
    "## Importando as bibliotecas:"
   ]
  },
  {
   "cell_type": "code",
   "execution_count": 3,
   "metadata": {},
   "outputs": [],
   "source": [
    "import pandas as pd\n",
    "from IPython.display import clear_output"
   ]
  },
  {
   "cell_type": "markdown",
   "metadata": {},
   "source": [
    "## Dicionário -> Alterar para arquivo json"
   ]
  },
  {
   "cell_type": "code",
   "execution_count": 4,
   "metadata": {},
   "outputs": [],
   "source": [
    "# Dicionário para armazenar os produtos\n",
    "produtos = {'id': [],\n",
    "            'nome': [],\n",
    "            'caracteristicas': [],\n",
    "            'quantidade': [],\n",
    "            'preco': [],\n",
    "            'descricao': []}"
   ]
  },
  {
   "cell_type": "code",
   "execution_count": 5,
   "metadata": {},
   "outputs": [],
   "source": [
    "# Dicionário para armazenar as características dos produtos\n",
    "produtos['caracteristicas'] = {'peso': [],\n",
    "                               'tamanho': [],\n",
    "                               'cor': [],\n",
    "                               'altura': []}"
   ]
  },
  {
   "cell_type": "code",
   "execution_count": 6,
   "metadata": {},
   "outputs": [
    {
     "data": {
      "text/plain": [
       "{'id': [],\n",
       " 'nome': [],\n",
       " 'caracteristicas': {'peso': [], 'tamanho': [], 'cor': [], 'altura': []},\n",
       " 'quantidade': [],\n",
       " 'preco': [],\n",
       " 'descricao': []}"
      ]
     },
     "execution_count": 6,
     "metadata": {},
     "output_type": "execute_result"
    }
   ],
   "source": [
    "produtos"
   ]
  },
  {
   "cell_type": "markdown",
   "metadata": {},
   "source": [
    "## Funções principais:"
   ]
  },
  {
   "cell_type": "code",
   "execution_count": 7,
   "metadata": {},
   "outputs": [],
   "source": [
    "# Função para cadastrar um novo produto\n",
    "def cadastrar_produto():\n",
    "    resposta = 's'\n",
    "    while resposta.lower() != 'n':\n",
    "        try:\n",
    "            id_produto = int(input('Id do Produto: '))\n",
    "            # Verificar se o produto já existe no dicionário\n",
    "            if id_produto in produtos['id']:\n",
    "                print(f'Produto \"{id_produto}\" já cadastrado.')\n",
    "            else:\n",
    "                nome_produto = input('Nome do Produto: ')\n",
    "                preco_produto = float(input('Preço do Produto: '))\n",
    "                quantidade_produto = int(\n",
    "                    input('Quantidade do Produto em estoque: '))\n",
    "                descricao_produto = input('Descrição do Produto: ')\n",
    "                while True:\n",
    "                    caracteristicas_produto = input(\n",
    "                        'Selecione a característica do produto (ou digite \"sair\" para encerrar): ')\n",
    "                    if caracteristicas_produto.lower() == 'sair':\n",
    "                        break\n",
    "                    valor = input(\n",
    "                        f\"Digite o valor da característica '{caracteristicas_produto}': \")\n",
    "                    if caracteristicas_produto in produtos['caracteristicas']:\n",
    "                        produtos['caracteristicas'][caracteristicas_produto].append(\n",
    "                            valor)\n",
    "                    else:\n",
    "                        print(\n",
    "                            f\"Característica '{caracteristicas_produto}' não existe. Por favor, adicione uma característica válida.\")\n",
    "                produtos['id'].append(id_produto)\n",
    "                produtos['nome'].append(nome_produto)\n",
    "                produtos['preco'].append(preco_produto)\n",
    "                produtos['descricao'].append(descricao_produto)\n",
    "                produtos['quantidade'].append(quantidade_produto)\n",
    "                print(\n",
    "                    f'Cadastro do produto {id_produto} ({nome_produto}) realizado!')\n",
    "        except ValueError:\n",
    "            print(\"Entrada inválida. Tente novamente.\")\n",
    "        resposta = input('Deseja adicionar outro produto? (s/n)')"
   ]
  },
  {
   "cell_type": "code",
   "execution_count": 176,
   "metadata": {},
   "outputs": [],
   "source": [
    "# Função para consultar um produto\n",
    "def consultar_produto():\n",
    "    try:\n",
    "        id_produto = int(input('ID do Produto: '))\n",
    "        # Verificar se o produto já existe no dicionário\n",
    "        if id_produto in produtos['id']:\n",
    "            i = produtos['id'].index(id_produto)\n",
    "            print(f'Nome: {produtos[\"nome\"][i]}')\n",
    "            print(f'Preço: R$ {produtos[\"preco\"][i]:.2f}')\n",
    "            print(f'Quantidade: {produtos[\"quantidade\"][i]}')\n",
    "            print('Características:')\n",
    "            for caracteristica, valores in produtos['caracteristicas'].items():\n",
    "                if i < len(valores):\n",
    "                    print(f'      {caracteristica}: {valores[i]}')\n",
    "\n",
    "            print(f'Descrição: {produtos[\"descricao\"][i]}')\n",
    "        else:\n",
    "            resposta = input(\n",
    "                'Produto não cadastrado. Deseja cadastrá-lo? (s|n)')\n",
    "            if resposta == 's':\n",
    "                cadastrar_produto()\n",
    "            else:\n",
    "                print('Encerrando aplicação')\n",
    "    except ValueError:\n",
    "        print(\"Entrada inválida. Tente novamente.\")"
   ]
  },
  {
   "cell_type": "code",
   "execution_count": 178,
   "metadata": {},
   "outputs": [],
   "source": [
    "# Função para listar todos os produtos\n",
    "def listar_produtos():\n",
    "    ids = produtos['id']\n",
    "    nomes = produtos['nome']\n",
    "    precos = produtos['preco']\n",
    "    quantidades = produtos['quantidade']\n",
    "    descricoes = produtos['descricao']\n",
    "    caracteristicas = produtos['caracteristicas']\n",
    "\n",
    "    for i in range(len(ids)):\n",
    "        print(f'Produto {ids[i]}')\n",
    "        print(f'Nome: {nomes[i]}')\n",
    "        print(f'Preço: R$ {precos[i]:.2f}')\n",
    "        print(f'Quantidade: {quantidades[i]}')\n",
    "        print('Características:')\n",
    "        for caracteristica, valores in caracteristicas.items():\n",
    "            if i < len(valores):\n",
    "                print(f'{caracteristica}: {valores[i]}')\n",
    "        print(f'Descrição: {descricoes[i]}')\n",
    "        print()"
   ]
  },
  {
   "cell_type": "code",
   "execution_count": null,
   "metadata": {},
   "outputs": [],
   "source": [
    "# Função para atualizar o cadastro de um produto\n",
    "def atualizar_cadastro():\n",
    "    try:\n",
    "        id_produto = int(input('ID do Produto: '))\n",
    "        if id_produto in produtos['id']:\n",
    "            i = produtos['id'].index(id_produto)\n",
    "            nome_produto = input('Nome do Produto: ')\n",
    "            preco_produto = float(input('Preço do Produto: '))\n",
    "            quantidade_produto = int(\n",
    "                input('Quantidade do Produto em estoque: '))\n",
    "            descricao_produto = input('Descrição do Produto: ')\n",
    "            while True:\n",
    "                caracteristicas_produto = input(\n",
    "                    'Selecione a característica do produto (ou digite \"sair\" para encerrar): ')\n",
    "                if caracteristicas_produto.lower() == 'sair':\n",
    "                    break\n",
    "                valor = input(\n",
    "                    f\"Digite o valor da característica '{caracteristicas_produto}': \")\n",
    "                if caracteristicas_produto in produtos['caracteristicas']:\n",
    "                    produtos['caracteristicas'][caracteristicas_produto][i] = valor\n",
    "                else:\n",
    "                    print(\n",
    "                        f\"Característica '{caracteristicas_produto}' não existe. Por favor, adicione uma característica válida.\")\n",
    "            produtos['nome'][i] = nome_produto\n",
    "            produtos['preco'][i] = preco_produto\n",
    "            produtos['descricao'][i] = descricao_produto\n",
    "            produtos['quantidade'][i] = quantidade_produto\n",
    "            print(\n",
    "                f'Atualização do produto {id_produto} ({nome_produto}) realizada!')\n",
    "        else:\n",
    "            print(f\"Produto {id_produto} não encontrado.\")\n",
    "    except ValueError:\n",
    "        print(\"Entrada inválida. Tente novamente.\")"
   ]
  },
  {
   "cell_type": "code",
   "execution_count": 180,
   "metadata": {},
   "outputs": [],
   "source": [
    "\n",
    "# Função para excluir um produto\n",
    "def excluir_cadastro():\n",
    "    resposta = input('Tem certeza que quer excluir o produto? (s|n): ')\n",
    "    if resposta == 's':\n",
    "        try:\n",
    "            id_produto = int(input('Insira o ID do produto: '))\n",
    "            if id_produto in produtos['id']:\n",
    "                index = produtos['id'].index(id_produto)\n",
    "                del produtos['id'][index]\n",
    "                del produtos['nome'][index]\n",
    "                del produtos['preco'][index]\n",
    "                del produtos['quantidade'][index]\n",
    "                for caracteristica, valores in produtos['caracteristicas'].items():\n",
    "                    if index < len(valores):\n",
    "                        del valores[index]\n",
    "                del produtos['descricao'][index]\n",
    "                print(f'Produto {id_produto} excluído com sucesso.')\n",
    "            else:\n",
    "                print(f\"Produto {id_produto} não encontrado.\")\n",
    "        except ValueError:\n",
    "            print(\"Entrada inválida. Tente novamente.\")\n",
    "    else:\n",
    "        print('Encerrando aplicação.')"
   ]
  },
  {
   "cell_type": "markdown",
   "metadata": {},
   "source": [
    "### Função Menu:\n"
   ]
  },
  {
   "cell_type": "code",
   "execution_count": 105,
   "metadata": {},
   "outputs": [],
   "source": [
    "# Função para exibir o menu\n",
    "def menu():\n",
    "    while True:\n",
    "        print(f'*' * 20 + ' GERENCIAMENTO DE PRODUTOS ' + '*'*20)\n",
    "        print()\n",
    "        print('1 - Cadastrar produtos')\n",
    "        print('2 - Consultar produto')\n",
    "        print('3 - Listar produtos cadastrados')\n",
    "        print('4 - Atualizar cadastro')\n",
    "        print('5 - Excluir cadastro')\n",
    "        print('6 - Sair')\n",
    "        print()\n",
    "        print('*'*67)\n",
    "        opcao = input('Selecione uma opção: ')\n",
    "        if opcao == '1':\n",
    "            cadastrar_produto()\n",
    "        elif opcao == '2':\n",
    "            consultar_produto()\n",
    "        elif opcao == '3':\n",
    "            listar_produtos()\n",
    "        elif opcao == '4':\n",
    "            atualizar_cadastro()\n",
    "        elif opcao == '5':\n",
    "            excluir_cadastro()\n",
    "        elif opcao == '6':\n",
    "            break\n",
    "        else:\n",
    "            clear_output(wait=True)\n",
    "            print('Opção Inválida')"
   ]
  },
  {
   "cell_type": "markdown",
   "metadata": {},
   "source": [
    "## Funções auxiliares:"
   ]
  },
  {
   "cell_type": "markdown",
   "metadata": {},
   "source": [
    "### Funções criadas"
   ]
  },
  {
   "cell_type": "code",
   "execution_count": null,
   "metadata": {},
   "outputs": [],
   "source": [
    "def get_caracteristicas():\n",
    "    caracteristicas = {}\n",
    "    while True:\n",
    "        caracteristica = input(\n",
    "            'Selecione a característica do produto (ou digite \"sair\" para encerrar): ')\n",
    "        if caracteristica.lower() == 'sair':\n",
    "            break\n",
    "        valor = input(f\"Digite o valor da característica '{caracteristica}': \")\n",
    "        caracteristicas[caracteristica] = valor\n",
    "    return caracteristicas"
   ]
  },
  {
   "cell_type": "markdown",
   "metadata": {},
   "source": [
    "# Sistema de Controle de Estoque - "
   ]
  },
  {
   "cell_type": "code",
   "execution_count": 106,
   "metadata": {},
   "outputs": [
    {
     "name": "stdout",
     "output_type": "stream",
     "text": [
      "******************** GERENCIAMENTO DE PRODUTOS ********************\n",
      "\n",
      "1 - Cadastrar produtos\n",
      "2 - Consultar produto\n",
      "3 - Listar produtos cadastrados\n",
      "4 - Atualizar cadastro\n",
      "5 - Excluir cadastro\n",
      "6 - Sair\n",
      "\n",
      "*******************************************************************\n",
      "Encerrando aplicação\n",
      "******************** GERENCIAMENTO DE PRODUTOS ********************\n",
      "\n",
      "1 - Cadastrar produtos\n",
      "2 - Consultar produto\n",
      "3 - Listar produtos cadastrados\n",
      "4 - Atualizar cadastro\n",
      "5 - Excluir cadastro\n",
      "6 - Sair\n",
      "\n",
      "*******************************************************************\n"
     ]
    }
   ],
   "source": [
    "menu()"
   ]
  }
 ],
 "metadata": {
  "kernelspec": {
   "display_name": "Python 3",
   "language": "python",
   "name": "python3"
  },
  "language_info": {
   "codemirror_mode": {
    "name": "ipython",
    "version": 3
   },
   "file_extension": ".py",
   "mimetype": "text/x-python",
   "name": "python",
   "nbconvert_exporter": "python",
   "pygments_lexer": "ipython3",
   "version": "3.12.0"
  }
 },
 "nbformat": 4,
 "nbformat_minor": 2
}
