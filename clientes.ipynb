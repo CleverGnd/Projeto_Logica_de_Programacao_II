{
 "cells": [
  {
   "cell_type": "code",
   "execution_count": 2,
   "metadata": {},
   "outputs": [],
   "source": [
    "import pandas as pd"
   ]
  },
  {
   "cell_type": "code",
   "execution_count": 163,
   "metadata": {},
   "outputs": [],
   "source": [
    "produtos = {'id':[],\n",
    "            'nome': [],\n",
    "            'caracteristicas': [],\n",
    "            'quantidade':[],\n",
    "            'preco': [],\n",
    "            'descricao': []}"
   ]
  },
  {
   "cell_type": "code",
   "execution_count": 164,
   "metadata": {},
   "outputs": [],
   "source": [
    "produtos['caracteristicas'] = {'peso':[],\n",
    "                               'tamanho':[],\n",
    "                               'cor':[],\n",
    "                               'altura':[]}"
   ]
  },
  {
   "cell_type": "code",
   "execution_count": 165,
   "metadata": {},
   "outputs": [
    {
     "data": {
      "text/plain": [
       "{'id': [],\n",
       " 'nome': [],\n",
       " 'caracteristicas': {'peso': [], 'tamanho': [], 'cor': [], 'altura': []},\n",
       " 'quantidade': [],\n",
       " 'preco': [],\n",
       " 'descricao': []}"
      ]
     },
     "execution_count": 165,
     "metadata": {},
     "output_type": "execute_result"
    }
   ],
   "source": [
    "produtos"
   ]
  },
  {
   "cell_type": "code",
   "execution_count": 166,
   "metadata": {},
   "outputs": [],
   "source": [
    "def cadastrar_produto():\n",
    "\n",
    "    resposta = 's'\n",
    "\n",
    "    while resposta.lower() != 'n':\n",
    "\n",
    "        id_produto = int(input('Id do Produto: '))\n",
    "        # Verificar se o produto já existe no dicionário\n",
    "        if id_produto in produtos['id']:\n",
    "            print(f'Produto \"{id_produto}\" já cadastrado.')\n",
    "        else:\n",
    "            nome_produto = input('Nome do Produto: ')\n",
    "            preco_produto = float(input('Preço do Produto: '))\n",
    "\n",
    "            quantidade_produto = int(input('Quantidade do Produto em estoque: '))\n",
    "            descricao_produto = input('Descrição do Produto: ')\n",
    "\n",
    "            while True:\n",
    "                caracteristicas_produto = input('Selecione a característica do produto (ou digite \"sair\" para encerrar): ')\n",
    "\n",
    "                if caracteristicas_produto.lower() == 'sair':\n",
    "                    break\n",
    "\n",
    "                valor = input(f\"Digite o valor da característica '{caracteristicas_produto}': \")\n",
    "                \n",
    "                if caracteristicas_produto in produtos['caracteristicas']:\n",
    "                    produtos['caracteristicas'][caracteristicas_produto].append(valor)\n",
    "                else:\n",
    "                    print(f\"Característica '{caracteristicas_produto}' não existe. Por favor, adicione uma característica válida.\")\n",
    "                \n",
    "            produtos['id'].append(id_produto)\n",
    "            produtos['nome'].append(nome_produto)\n",
    "            produtos['preco'].append(preco_produto)\n",
    "            produtos['descricao'].append(descricao_produto)\n",
    "            produtos['quantidade'].append(quantidade_produto)\n",
    "\n",
    "            print(f'Cadastro do produto {id_produto} ({nome_produto}) realizado!')\n",
    "\n",
    "        resposta = input('Deseja adicionar outro produto? (s/n)')\n"
   ]
  },
  {
   "cell_type": "code",
   "execution_count": 176,
   "metadata": {},
   "outputs": [],
   "source": [
    "def consultar_produto():\n",
    "    id_produto = int(input('ID do Produto: '))\n",
    "    \n",
    "    # Verificar se o produto já existe no dicionário\n",
    "    if id_produto in produtos['id']:\n",
    "        i = produtos['id'].index(id_produto)\n",
    "        \n",
    "        print(f'Nome: {produtos[\"nome\"][i]}')\n",
    "        print(f'Preço: R$ {produtos[\"preco\"][i]:.2f}')\n",
    "        print(f'Quantidade: {produtos[\"quantidade\"][i]}')\n",
    "        \n",
    "        print('Características:')\n",
    "        for caracteristica, valores in produtos['caracteristicas'].items():\n",
    "            if i < len(valores):\n",
    "                print(f'      {caracteristica}: {valores[i]}')\n",
    "        \n",
    "        print(f'Descrição: {produtos[\"descricao\"][i]}')\n",
    "    else:\n",
    "        resposta = input('Produto não cadastrado. Deseja cadastrá-lo? (s|n)')\n",
    "        if resposta == 's':\n",
    "            cadastrar_produto()\n",
    "        else:\n",
    "            print('Encerrando aplicação')\n",
    "\n",
    "# Certifique-se de que a variável 'produtos' esteja definida antes de chamar esta função\n"
   ]
  },
  {
   "cell_type": "code",
   "execution_count": 178,
   "metadata": {},
   "outputs": [],
   "source": [
    "def listar_produtos():\n",
    "    ids = produtos['id']\n",
    "    nomes = produtos['nome']\n",
    "    precos = produtos['preco']\n",
    "    quantidades = produtos['quantidade']\n",
    "    descricoes = produtos['descricao']\n",
    "    caracteristicas = produtos['caracteristicas']\n",
    "\n",
    "    for i in range(len(ids)):\n",
    "        print(f'Produto {ids[i]}')\n",
    "        print(f'Nome: {nomes[i]}')\n",
    "        print(f'Preço: R$ {precos[i]:.2f}')\n",
    "        print(f'Quantidade: {quantidades[i]}')\n",
    "        print('Características:')\n",
    "\n",
    "        for caracteristica, valores in caracteristicas.items():\n",
    "            if i < len(valores):\n",
    "                print(f'{caracteristica}: {valores[i]}')\n",
    "                \n",
    "        print(f'Descrição: {descricoes[i]}')\n",
    "        print()\n"
   ]
  },
  {
   "cell_type": "code",
   "execution_count": 180,
   "metadata": {},
   "outputs": [],
   "source": [
    "def excluir_cadastro():\n",
    "    resposta = input('Tem certeza que quer excluir o produto? (s|n): ')\n",
    "\n",
    "    if resposta == 's':\n",
    "        id_produto = input('Insira o ID do produto: ')\n",
    "\n",
    "        if id_produto in produtos['id']:\n",
    "            index = produtos['id'].index(id_produto)\n",
    "            \n",
    "            del produtos['id'][index]\n",
    "            del produtos['nome'][index]\n",
    "            del produtos['preco'][index]\n",
    "            del produtos['quantidade'][index]\n",
    "\n",
    "            # Remover todas as características para o produto\n",
    "            for caracteristica, valores in produtos['caracteristicas'].items():\n",
    "                if index < len(valores):\n",
    "                    del valores[index]\n",
    "\n",
    "            del produtos['descricao'][index]\n",
    "\n",
    "            print(f'Produto {id_produto} excluído com sucesso.')\n",
    "        else:\n",
    "            print(f\"Produto {id_produto} não encontrado.\")\n",
    "    else:\n",
    "        print('Encerrando aplicação.')\n"
   ]
  },
  {
   "cell_type": "markdown",
   "metadata": {},
   "source": [
    "### Funções criadas"
   ]
  },
  {
   "cell_type": "code",
   "execution_count": null,
   "metadata": {},
   "outputs": [],
   "source": [
    "cadastrar_produto()"
   ]
  },
  {
   "cell_type": "code",
   "execution_count": 181,
   "metadata": {},
   "outputs": [
    {
     "name": "stdout",
     "output_type": "stream",
     "text": [
      "Nome: pizza\n",
      "Preço: R$ 35.00\n",
      "Quantidade: 40\n",
      "Características:\n",
      "      peso: 300\n",
      "Descrição: comida\n"
     ]
    }
   ],
   "source": [
    "consultar_produto()"
   ]
  },
  {
   "cell_type": "code",
   "execution_count": null,
   "metadata": {},
   "outputs": [],
   "source": [
    "listar_produtos()"
   ]
  },
  {
   "cell_type": "code",
   "execution_count": null,
   "metadata": {},
   "outputs": [],
   "source": [
    "excluir_cadastro()"
   ]
  },
  {
   "cell_type": "markdown",
   "metadata": {},
   "source": [
    "### Menu\n"
   ]
  },
  {
   "cell_type": "code",
   "execution_count": 105,
   "metadata": {},
   "outputs": [],
   "source": [
    "    \n",
    "def menu():\n",
    "\n",
    "    while True:\n",
    "        print(f'*' * 20 + ' GERENCIAMENTO DE PRODUTOS ' + '*'*20)\n",
    "        print()\n",
    "        print('1 - Cadastrar produtos')\n",
    "        print('2 - Consultar produto')\n",
    "        print('3 - Listar produtos cadastrados')\n",
    "        print('4 - Atualizar cadastro')\n",
    "        print('5 - Excluir cadastro')\n",
    "        print('6 - Sair')\n",
    "        print()\n",
    "        print('*'*67)\n",
    "\n",
    "        opcao = input('Selecione uma opção: ')\n",
    "\n",
    "        if opcao == '1':\n",
    "            cadastrar_produto()\n",
    "        elif opcao == '2':\n",
    "            consultar_produto()\n",
    "        elif opcao == '3':\n",
    "            listar_produtos()\n",
    "        elif opcao == '4':\n",
    "            print('inserir função de atualizar cadastro')\n",
    "        elif opcao == '5':\n",
    "            excluir_cadastro()\n",
    "        elif opcao == '6':\n",
    "            break\n",
    "        else:\n",
    "            print('Opção Inválida')\n"
   ]
  },
  {
   "cell_type": "markdown",
   "metadata": {},
   "source": [
    "### Funcionamento"
   ]
  },
  {
   "cell_type": "code",
   "execution_count": 106,
   "metadata": {},
   "outputs": [
    {
     "name": "stdout",
     "output_type": "stream",
     "text": [
      "******************** GERENCIAMENTO DE PRODUTOS ********************\n",
      "\n",
      "1 - Cadastrar produtos\n",
      "2 - Consultar produto\n",
      "3 - Listar produtos cadastrados\n",
      "4 - Atualizar cadastro\n",
      "5 - Excluir cadastro\n",
      "6 - Sair\n",
      "\n",
      "*******************************************************************\n",
      "Encerrando aplicação\n",
      "******************** GERENCIAMENTO DE PRODUTOS ********************\n",
      "\n",
      "1 - Cadastrar produtos\n",
      "2 - Consultar produto\n",
      "3 - Listar produtos cadastrados\n",
      "4 - Atualizar cadastro\n",
      "5 - Excluir cadastro\n",
      "6 - Sair\n",
      "\n",
      "*******************************************************************\n"
     ]
    }
   ],
   "source": [
    "menu()"
   ]
  }
 ],
 "metadata": {
  "kernelspec": {
   "display_name": "Python 3",
   "language": "python",
   "name": "python3"
  },
  "language_info": {
   "codemirror_mode": {
    "name": "ipython",
    "version": 3
   },
   "file_extension": ".py",
   "mimetype": "text/x-python",
   "name": "python",
   "nbconvert_exporter": "python",
   "pygments_lexer": "ipython3",
   "version": "3.11.4"
  }
 },
 "nbformat": 4,
 "nbformat_minor": 2
}
