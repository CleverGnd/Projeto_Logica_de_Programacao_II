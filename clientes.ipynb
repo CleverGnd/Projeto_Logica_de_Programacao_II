{
 "cells": [
  {
   "cell_type": "markdown",
   "metadata": {},
   "source": [
    "# Código Desenvolvido:"
   ]
  },
  {
   "cell_type": "markdown",
   "metadata": {},
   "source": [
    "## Importando as bibliotecas:"
   ]
  },
  {
   "cell_type": "markdown",
   "metadata": {},
   "source": [
    "### Instalar Bibliotecas:"
   ]
  },
  {
   "cell_type": "code",
   "execution_count": 2,
   "metadata": {},
   "outputs": [
    {
     "name": "stdout",
     "output_type": "stream",
     "text": [
      "Collecting tabulate\n",
      "  Using cached tabulate-0.9.0-py3-none-any.whl (35 kB)\n",
      "Installing collected packages: tabulate\n",
      "Successfully installed tabulate-0.9.0\n"
     ]
    },
    {
     "name": "stderr",
     "output_type": "stream",
     "text": [
      "\n",
      "[notice] A new release of pip is available: 23.2.1 -> 23.3.1\n",
      "[notice] To update, run: python.exe -m pip install --upgrade pip\n"
     ]
    }
   ],
   "source": [
    "!pip install tabulate"
   ]
  },
  {
   "cell_type": "code",
   "execution_count": 1,
   "metadata": {},
   "outputs": [],
   "source": [
    "import pandas as pd\n",
    "import json\n",
    "from IPython.display import clear_output\n",
    "from tabulate import tabulate"
   ]
  },
  {
   "cell_type": "markdown",
   "metadata": {},
   "source": [
    "## Dicionário -> Alterar para arquivo json"
   ]
  },
  {
   "cell_type": "code",
   "execution_count": 2,
   "metadata": {},
   "outputs": [],
   "source": [
    "# Dicionário para armazenar os produtos\n",
    "produtos = {}"
   ]
  },
  {
   "cell_type": "markdown",
   "metadata": {},
   "source": [
    "## Funções principais:"
   ]
  },
  {
   "cell_type": "code",
   "execution_count": 5,
   "metadata": {},
   "outputs": [],
   "source": [
    "def cadastrar_produto():\n",
    "    \"\"\"\n",
    "    Cadastra um novo produto no dicionário de produtos.\n",
    "    \"\"\"\n",
    "    exibir_titulo('Cadastrar Produtos')\n",
    "    resposta = 's'\n",
    "    while resposta.lower() != 'n':\n",
    "        try:\n",
    "            id_produto = input('Id do Produto: ')\n",
    "            if id_produto in produtos:\n",
    "                print(f'Produto \"{id_produto}\" já cadastrado.')\n",
    "            else:\n",
    "                nome_produto = input('Nome do Produto: ')\n",
    "                preco_produto = float(input('Preço do Produto: '))\n",
    "                quantidade_produto = int(\n",
    "                    input('Quantidade do Produto em estoque: '))\n",
    "                descricao_produto = input('Descrição do Produto: ')\n",
    "                caracteristicas_produto = {'peso': [],\n",
    "                                           'tamanho': [],\n",
    "                                           'cor': [],\n",
    "                                           'altura': []}\n",
    "                while True:\n",
    "                    caracteristica = input(\n",
    "                        'Selecione a característica do produto (ou digite \"sair\" para encerrar): ')\n",
    "                    if caracteristica.lower() == 'sair':\n",
    "                        break\n",
    "                    valor = input(f\"Digite o valor da característica '{\n",
    "                                  caracteristica}': \")\n",
    "                    if caracteristica in caracteristicas_produto:\n",
    "                        caracteristicas_produto[caracteristica].append(valor)\n",
    "                    else:\n",
    "                        print(f\"Característica '{\n",
    "                              caracteristica}' não existe. Por favor, adicione uma característica válida.\")\n",
    "                produtos[id_produto] = {'nome': nome_produto,\n",
    "                                        'caracteristicas': caracteristicas_produto,\n",
    "                                        'quantidade': quantidade_produto,\n",
    "                                        'preco': preco_produto,\n",
    "                                        'descricao': descricao_produto}\n",
    "                print(f'Cadastro do produto {\n",
    "                      id_produto} ({nome_produto}) realizado!')\n",
    "                atualizar_dicionario_json('produtos.json', produtos)\n",
    "        except ValueError:\n",
    "            print(\n",
    "                \"Entrada inválida. Certifique-se de inserir um valor numérico para o preço.\")\n",
    "        resposta = input('Deseja adicionar outro produto? (s/n)')"
   ]
  },
  {
   "cell_type": "code",
   "execution_count": 6,
   "metadata": {},
   "outputs": [],
   "source": [
    "def consultar_produto():\n",
    "    \"\"\"\n",
    "    Consulta um produto no dicionário de produtos.\n",
    "    \"\"\"\n",
    "    exibir_titulo('Consultar um produto')\n",
    "    try:\n",
    "        id_produto = input('ID do Produto: ')\n",
    "        if id_produto in produtos:\n",
    "            produto = produtos[id_produto]\n",
    "            print(f'Nome: {produto[\"nome\"]}')\n",
    "            print(f'Preço: R$ {produto[\"preco\"]:.2f}')\n",
    "            print(f'Quantidade: {produto[\"quantidade\"]}')\n",
    "\n",
    "            if produto['caracteristicas']:\n",
    "                print('Características:')\n",
    "                for caracteristica, valores in produto['caracteristicas'].items():\n",
    "                    if valores:\n",
    "                        print(f'     {caracteristica}: {valores[0]}')\n",
    "                    else:\n",
    "                        print(\n",
    "                            f'     {caracteristica}: Nenhum valor disponível')\n",
    "            else:\n",
    "                print('Características: Nenhuma informação disponível')\n",
    "\n",
    "            print(f'Descrição: {produto[\"descricao\"]}')\n",
    "        else:\n",
    "            resposta = input(\n",
    "                'Produto não cadastrado. Deseja cadastrá-lo? (s|n)')\n",
    "            if resposta.lower() == 's':\n",
    "                cadastrar_produto()\n",
    "            else:\n",
    "                print()\n",
    "    except ValueError:\n",
    "        print(\"Entrada inválida. Tente novamente.\")"
   ]
  },
  {
   "cell_type": "code",
   "execution_count": 15,
   "metadata": {},
   "outputs": [],
   "source": [
    "def listar_produtos():\n",
    "    \"\"\"\n",
    "    Lista todos os produtos cadastrados.\n",
    "    \"\"\"\n",
    "    exibir_titulo('Listar Produtos Cadastrados')\n",
    "\n",
    "    table_data = [\n",
    "        [id_produto, produto[\"nome\"], f'R$ {\n",
    "            produto[\"preco\"]:.2f}', produto[\"quantidade\"]]\n",
    "        for id_produto, produto in produtos.items()\n",
    "    ]\n",
    "\n",
    "    headers = [\"ID\", \"Nome\", \"Preço\", \"Quantidade\"]\n",
    "    table = tabulate(table_data, headers, tablefmt=\"pretty\")\n",
    "\n",
    "    print(table)"
   ]
  },
  {
   "cell_type": "code",
   "execution_count": 8,
   "metadata": {},
   "outputs": [],
   "source": [
    "def atualizar_cadastro():\n",
    "    \"\"\"\n",
    "    Atualiza o cadastro de um produto existente.\n",
    "    \"\"\"\n",
    "    exibir_titulo('Atualizar Cadastro de Um Produto')\n",
    "    try:\n",
    "        id_produto = input('ID do Produto: ')\n",
    "        if id_produto in produtos:\n",
    "            produto = produtos[id_produto]\n",
    "            nome_produto = input('Nome do Produto: ')\n",
    "            preco_produto = float(input('Preço do Produto: '))\n",
    "            quantidade_produto = int(\n",
    "                input('Quantidade do Produto em estoque: '))\n",
    "            descricao_produto = input('Descrição do Produto: ')\n",
    "            while True:\n",
    "                caracteristica = input(\n",
    "                    'Selecione a característica do produto (ou digite \"sair\" para encerrar): ')\n",
    "                if caracteristica.lower() == 'sair':\n",
    "                    break\n",
    "                valor = input(f\"Digite o valor da característica '{\n",
    "                              caracteristica}': \")\n",
    "                if caracteristica in produto['caracteristicas']:\n",
    "                    produto['caracteristicas'][caracteristica][0] = valor\n",
    "                else:\n",
    "                    print(f\"Característica '{\n",
    "                          caracteristica}' não existe. Por favor, adicione uma característica válida.\")\n",
    "            produto['nome'] = nome_produto\n",
    "            produto['preco'] = preco_produto\n",
    "            produto['descricao'] = descricao_produto\n",
    "            produto['quantidade'] = quantidade_produto\n",
    "            print(f'Atualização do produto {\n",
    "                  id_produto} ({nome_produto}) realizada!')\n",
    "            atualizar_dicionario_json('produtos.json', produtos)\n",
    "        else:\n",
    "            print('Produto não cadastrado.')\n",
    "    except ValueError:\n",
    "        print(\"Entrada inválida. Certifique-se de inserir um valor numérico para o preço.\")"
   ]
  },
  {
   "cell_type": "code",
   "execution_count": 9,
   "metadata": {},
   "outputs": [],
   "source": [
    "def excluir_produto():\n",
    "    \"\"\"\n",
    "    Exclui um produto do dicionário de produtos.\n",
    "    \"\"\"\n",
    "    exibir_titulo('Excluir Produto')\n",
    "    try:\n",
    "        id_produto = input('ID do Produto: ')\n",
    "        if id_produto in produtos:\n",
    "            del produtos[id_produto]\n",
    "            print(f'Produto {id_produto} excluído!')\n",
    "            atualizar_dicionario_json('produtos.json', produtos)\n",
    "        else:\n",
    "            print('Produto não cadastrado.')\n",
    "    except ValueError:\n",
    "        print(\"Entrada inválida. Tente novamente.\")"
   ]
  },
  {
   "cell_type": "markdown",
   "metadata": {},
   "source": [
    "### Função Menu:\n"
   ]
  },
  {
   "cell_type": "code",
   "execution_count": 10,
   "metadata": {},
   "outputs": [],
   "source": [
    "def menu():\n",
    "    \"\"\"\n",
    "    Exibe o menu principal e processa a escolha do usuário.\n",
    "    \"\"\"\n",
    "    while True:\n",
    "        exibir_titulo('Gerenciamento de Produtos')\n",
    "        print('1 - Cadastrar produtos')\n",
    "        print('2 - Consultar produto')\n",
    "        print('3 - Listar produtos cadastrados')\n",
    "        print('4 - Atualizar cadastro')\n",
    "        print('5 - Excluir cadastro')\n",
    "        print('6 - Sair')\n",
    "        print()\n",
    "        print('*' * 68)\n",
    "        opcao = input('Selecione uma opção: ')\n",
    "        if opcao == '1':\n",
    "            clear_output(wait=True)\n",
    "            cadastrar_produto()\n",
    "        elif opcao == '2':\n",
    "            clear_output(wait=True)\n",
    "            consultar_produto()\n",
    "        elif opcao == '3':\n",
    "            clear_output(wait=True)\n",
    "            listar_produtos()\n",
    "        elif opcao == '4':\n",
    "            clear_output(wait=True)\n",
    "            atualizar_cadastro()\n",
    "        elif opcao == '5':\n",
    "            clear_output(wait=True)\n",
    "            excluir_produto()\n",
    "        elif opcao == '6':\n",
    "            exibir_titulo('Obrigado por Utilizar Nosso Sistema')\n",
    "            break\n",
    "        else:\n",
    "            clear_output(wait=True)\n",
    "            print('Opção Inválida')"
   ]
  },
  {
   "cell_type": "markdown",
   "metadata": {},
   "source": [
    "## Funções auxiliares:"
   ]
  },
  {
   "cell_type": "code",
   "execution_count": 11,
   "metadata": {},
   "outputs": [],
   "source": [
    "def exibir_titulo(titulo):\n",
    "    \"\"\"\n",
    "    Exibe um título formatado com 68 caracteres centrados.\n",
    "    \"\"\"\n",
    "    espacos_laterais = (68 - len(titulo)) // 2\n",
    "    linha = '*' * espacos_laterais + ' ' + titulo.upper() + ' ' + '*' * \\\n",
    "        espacos_laterais\n",
    "    print(linha)\n",
    "    print()\n",
    "\n",
    "\n",
    "def carregar_dicionario_json(nome_arquivo):\n",
    "    \"\"\"\n",
    "    Carrega um dicionário a partir de um arquivo JSON.\n",
    "    \"\"\"\n",
    "    global produtos\n",
    "    try:\n",
    "        with open(nome_arquivo, 'r') as f:\n",
    "            dados = json.load(f)\n",
    "            print(f'Arquivo {nome_arquivo} encontrado.')\n",
    "\n",
    "            if dados:\n",
    "                primeiro_produto = next(iter(dados.values()))['nome']\n",
    "                ultimo_produto = list(dados.values())[-1]['nome']\n",
    "                print(f'Resumo do arquivo:')\n",
    "                print(f'Número de produtos: {len(dados)}')\n",
    "                print(f'Primeiro produto: {primeiro_produto}')\n",
    "                print(f'Último produto: {ultimo_produto}')\n",
    "\n",
    "                resposta = input(\n",
    "                    'Deseja importar esses dados para a execução atual do programa? (s|n): ')\n",
    "                if resposta.lower() == 's':\n",
    "                    produtos = dados\n",
    "                    print('Dados importados com sucesso.')\n",
    "                else:\n",
    "                    print(\n",
    "                        'Os dados não foram importados. O programa continuará com o estado atual.')\n",
    "            else:\n",
    "                print(\n",
    "                    'O arquivo está vazio. O programa continuará com um dicionário vazio.')\n",
    "                produtos = {}\n",
    "    except FileNotFoundError:\n",
    "        print(f'Arquivo {\n",
    "              nome_arquivo} não encontrado. O programa continuará com um dicionário vazio.')\n",
    "        produtos = {}\n",
    "    except Exception as e:\n",
    "        print(f'Erro ao carregar os dados do arquivo {nome_arquivo}: {str(e)}')\n",
    "        produtos = {}\n",
    "\n",
    "\n",
    "\n",
    "def atualizar_dicionario_json(nome_arquivo, dicionario):\n",
    "    \"\"\"\n",
    "    Atualiza um arquivo JSON com o conteúdo do dicionário.\n",
    "    \"\"\"\n",
    "    try:\n",
    "        with open(nome_arquivo, 'w') as f:\n",
    "            json.dump(dicionario, f)\n",
    "        print(f'Dados salvos corretamente no arquivo {nome_arquivo}.')\n",
    "    except Exception as e:\n",
    "        print(f'Erro ao salvar os dados no arquivo {nome_arquivo}: {str(e)}')"
   ]
  },
  {
   "cell_type": "markdown",
   "metadata": {},
   "source": [
    "### Funções criadas"
   ]
  },
  {
   "cell_type": "code",
   "execution_count": 12,
   "metadata": {},
   "outputs": [],
   "source": [
    "def get_caracteristicas():\n",
    "    caracteristicas = {}\n",
    "    while True:\n",
    "        caracteristica = input(\n",
    "            'Selecione a característica do produto (ou digite \"sair\" para encerrar): ')\n",
    "        if caracteristica.lower() == 'sair':\n",
    "            break\n",
    "        valor = input(f\"Digite o valor da característica '{caracteristica}': \")\n",
    "        caracteristicas[caracteristica] = valor\n",
    "    return caracteristicas"
   ]
  },
  {
   "cell_type": "markdown",
   "metadata": {},
   "source": [
    "# Sistema de Controle de Estoque - "
   ]
  },
  {
   "cell_type": "code",
   "execution_count": 16,
   "metadata": {},
   "outputs": [
    {
     "name": "stdout",
     "output_type": "stream",
     "text": [
      "******************** LISTAR PRODUTOS CADASTRADOS ********************\n",
      "\n",
      "+-----+----------+---------+------------+\n",
      "| ID  |   Nome   |  Preço  | Quantidade |\n",
      "+-----+----------+---------+------------+\n",
      "| 001 | laranaja | R$ 5.50 |     10     |\n",
      "+-----+----------+---------+------------+\n",
      "********************* GERENCIAMENTO DE PRODUTOS *********************\n",
      "\n",
      "1 - Cadastrar produtos\n",
      "2 - Consultar produto\n",
      "3 - Listar produtos cadastrados\n",
      "4 - Atualizar cadastro\n",
      "5 - Excluir cadastro\n",
      "6 - Sair\n",
      "\n",
      "********************************************************************\n",
      "**************** OBRIGADO POR UTILIZAR NOSSO SISTEMA ****************\n",
      "\n"
     ]
    }
   ],
   "source": [
    "# Carregar dados do arquivo JSON ao iniciar o programa\n",
    "carregar_dicionario_json('produtos.json')\n",
    "\n",
    "# Iniciar o menu principal\n",
    "menu()"
   ]
  }
 ],
 "metadata": {
  "kernelspec": {
   "display_name": "Python 3",
   "language": "python",
   "name": "python3"
  },
  "language_info": {
   "codemirror_mode": {
    "name": "ipython",
    "version": 3
   },
   "file_extension": ".py",
   "mimetype": "text/x-python",
   "name": "python",
   "nbconvert_exporter": "python",
   "pygments_lexer": "ipython3",
   "version": "3.12.0"
  }
 },
 "nbformat": 4,
 "nbformat_minor": 2
}
